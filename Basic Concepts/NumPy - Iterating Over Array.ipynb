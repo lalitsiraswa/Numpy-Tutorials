{
 "cells": [
  {
   "cell_type": "code",
   "execution_count": 1,
   "metadata": {},
   "outputs": [],
   "source": [
    "import numpy as np"
   ]
  },
  {
   "cell_type": "code",
   "execution_count": 2,
   "metadata": {},
   "outputs": [
    {
     "name": "stdout",
     "output_type": "stream",
     "text": [
      "[ 0  5 10 15 20 25 30 35 40 45 50 55]\n",
      "(12,)\n",
      "(3, 4)\n",
      "Original Array Is : \n",
      "[[ 0  5 10 15]\n",
      " [20 25 30 35]\n",
      " [40 45 50 55]] \n",
      "\n",
      "Modified Array Is : \n",
      "0 ,  5 ,  10 ,  15 ,  20 ,  25 ,  30 ,  35 ,  40 ,  45 ,  50 ,  55 ,  "
     ]
    }
   ],
   "source": [
    "a = np.arange(0, 60, 5)\n",
    "print(a)\n",
    "print(a.shape) \n",
    "a.shape = (3, 4) # a.reshape(3, 4)\n",
    "print(a.shape)\n",
    "print(\"Original Array Is : \")\n",
    "print(a, \"\\n\")\n",
    "\n",
    "print(\"Modified Array Is : \")\n",
    "for x in np.nditer(a):\n",
    "    print (x, end = \" ,  \")"
   ]
  },
  {
   "cell_type": "code",
   "execution_count": 3,
   "metadata": {},
   "outputs": [
    {
     "name": "stdout",
     "output_type": "stream",
     "text": [
      "10 ,  20 ,  30 ,  40 ,  50 ,  60 ,  70 ,  80 ,  90 ,  100 ,  "
     ]
    }
   ],
   "source": [
    "x = np.array([10, 20, 30, 40, 50, 60, 70 , 80, 90, 100])\n",
    "for i in np.nditer(x):\n",
    "    print(i, end=\" ,  \")"
   ]
  },
  {
   "cell_type": "code",
   "execution_count": 4,
   "metadata": {},
   "outputs": [
    {
     "data": {
      "text/plain": [
       "array([[ 10,  20],\n",
       "       [ 30,  40],\n",
       "       [ 50,  60],\n",
       "       [ 70,  80],\n",
       "       [ 90, 100]])"
      ]
     },
     "execution_count": 4,
     "metadata": {},
     "output_type": "execute_result"
    }
   ],
   "source": [
    "x.reshape(5, 2)"
   ]
  },
  {
   "cell_type": "code",
   "execution_count": 5,
   "metadata": {},
   "outputs": [
    {
     "data": {
      "text/plain": [
       "1"
      ]
     },
     "execution_count": 5,
     "metadata": {},
     "output_type": "execute_result"
    }
   ],
   "source": [
    "x.ndim"
   ]
  },
  {
   "cell_type": "code",
   "execution_count": 6,
   "metadata": {},
   "outputs": [
    {
     "name": "stdout",
     "output_type": "stream",
     "text": [
      "[[[ 10  20  30  40  50  60  70  80  90 100]]]\n",
      "3\n",
      "[[ 10  20  30  40  50  60  70  80  90 100]] ,  \n",
      "\n",
      "10 ,  20 ,  30 ,  40 ,  50 ,  60 ,  70 ,  80 ,  90 ,  100 ,  "
     ]
    }
   ],
   "source": [
    "x = np.array([i for i in range(110) if i % 10 == 0 and i != 0], ndmin = 3)\n",
    "print(x)\n",
    "print(x.ndim)\n",
    "for i in x:\n",
    "    print(i, end = \" ,  \")\n",
    "print(\"\\n\")\n",
    "for i in np.nditer(x):\n",
    "    print(i, end = \" ,  \")"
   ]
  },
  {
   "cell_type": "code",
   "execution_count": 7,
   "metadata": {},
   "outputs": [
    {
     "name": "stdout",
     "output_type": "stream",
     "text": [
      "[ 0  5 10 15 20 25 30 35 40 45 50 55]\n",
      "(12,)\n",
      "Original Array Is : \n",
      "[[ 0  5 10 15]\n",
      " [20 25 30 35]\n",
      " [40 45 50 55]] \n",
      "\n",
      "Transpose of the original Array is :\n",
      "[[ 0 20 40]\n",
      " [ 5 25 45]\n",
      " [10 30 50]\n",
      " [15 35 55]]\n",
      "\n",
      "\n",
      "Modified Array Is : \n",
      "0 ,  5 ,  10 ,  15 ,  20 ,  25 ,  30 ,  35 ,  40 ,  45 ,  50 ,  55 ,  \n",
      "\n"
     ]
    }
   ],
   "source": [
    "a = np.arange(0, 60, 5)\n",
    "print(a)\n",
    "print(a.shape)\n",
    "a = a.reshape(3, 4)\n",
    "print(\"Original Array Is : \")\n",
    "print(a, \"\\n\")\n",
    "print(\"Transpose of the original Array is :\")\n",
    "b = a.T\n",
    "print(b)\n",
    "print(\"\\n\")\n",
    "\n",
    "print(\"Modified Array Is : \")\n",
    "for i in np.nditer(b):\n",
    "    print(i, end = \" ,  \")\n",
    "print(\"\\n\")"
   ]
  },
  {
   "cell_type": "code",
   "execution_count": 8,
   "metadata": {},
   "outputs": [
    {
     "name": "stdout",
     "output_type": "stream",
     "text": [
      "1 ,  2 ,  3 ,  4 ,  5 ,  6 ,  7 ,  "
     ]
    }
   ],
   "source": [
    "x = np.array([1, 2, 3, 4, 5, 6, 7])\n",
    "for i in np.nditer(x):\n",
    "    print(i, end = \" ,  \")"
   ]
  },
  {
   "cell_type": "code",
   "execution_count": 9,
   "metadata": {},
   "outputs": [
    {
     "data": {
      "text/plain": [
       "array([[ 1,  2,  3,  4,  5],\n",
       "       [ 6,  7,  8,  9, 10],\n",
       "       [11, 12, 13, 14, 15],\n",
       "       [16, 17, 18, 19, 20],\n",
       "       [21, 22, 23, 24, 25]])"
      ]
     },
     "execution_count": 9,
     "metadata": {},
     "output_type": "execute_result"
    }
   ],
   "source": [
    "x = np.arange(1, 26).reshape(5, 5)\n",
    "x"
   ]
  },
  {
   "cell_type": "code",
   "execution_count": 10,
   "metadata": {},
   "outputs": [
    {
     "name": "stdout",
     "output_type": "stream",
     "text": [
      "1 ,  2 ,  3 ,  4 ,  5 ,  6 ,  7 ,  8 ,  9 ,  10 ,  11 ,  12 ,  13 ,  14 ,  15 ,  16 ,  17 ,  18 ,  19 ,  20 ,  21 ,  22 ,  23 ,  24 ,  25 ,  "
     ]
    }
   ],
   "source": [
    "for a in np.nditer(x):\n",
    "    print(a, end = \" ,  \")"
   ]
  },
  {
   "cell_type": "code",
   "execution_count": 11,
   "metadata": {},
   "outputs": [
    {
     "name": "stdout",
     "output_type": "stream",
     "text": [
      "[ 10  20  30  40  50  60  70  80  90 100 110 120 130 140 150 160 170 180\n",
      " 190 200]\n",
      "20\n"
     ]
    }
   ],
   "source": [
    "x = np.array([i for i in range(201) if i % 10 == 0 and i != 0])\n",
    "print(x)\n",
    "print(len(x))"
   ]
  },
  {
   "cell_type": "code",
   "execution_count": 12,
   "metadata": {},
   "outputs": [
    {
     "data": {
      "text/plain": [
       "array([[ 10,  20,  30,  40],\n",
       "       [ 50,  60,  70,  80],\n",
       "       [ 90, 100, 110, 120],\n",
       "       [130, 140, 150, 160],\n",
       "       [170, 180, 190, 200]])"
      ]
     },
     "execution_count": 12,
     "metadata": {},
     "output_type": "execute_result"
    }
   ],
   "source": [
    "x.shape = (5, 4)\n",
    "x"
   ]
  },
  {
   "cell_type": "code",
   "execution_count": 13,
   "metadata": {},
   "outputs": [
    {
     "name": "stdout",
     "output_type": "stream",
     "text": [
      "[[ 10  50  90 130 170]\n",
      " [ 20  60 100 140 180]\n",
      " [ 30  70 110 150 190]\n",
      " [ 40  80 120 160 200]]\n"
     ]
    }
   ],
   "source": [
    "x = x.T\n",
    "print(x)"
   ]
  },
  {
   "cell_type": "code",
   "execution_count": 14,
   "metadata": {},
   "outputs": [
    {
     "name": "stdout",
     "output_type": "stream",
     "text": [
      "12 \n",
      "\n",
      "[[ 0  5 10]\n",
      " [15 20 25]\n",
      " [30 35 40]\n",
      " [45 50 55]]\n"
     ]
    }
   ],
   "source": [
    "a = np.arange(0, 60, 5)\n",
    "print(len(a), \"\\n\")\n",
    "a = a.reshape(4, 3)\n",
    "print(a)"
   ]
  },
  {
   "cell_type": "code",
   "execution_count": 15,
   "metadata": {},
   "outputs": [
    {
     "name": "stdout",
     "output_type": "stream",
     "text": [
      "Original Array Is : \n",
      "[[ 0  5 10]\n",
      " [15 20 25]\n",
      " [30 35 40]\n",
      " [45 50 55]] \n",
      "\n",
      "Transpose of the original array is : \n",
      "[[ 0 15 30 45]\n",
      " [ 5 20 35 50]\n",
      " [10 25 40 55]] \n",
      "\n"
     ]
    }
   ],
   "source": [
    "print(\"Original Array Is : \")\n",
    "print(a, \"\\n\")\n",
    "print(\"Transpose of the original array is : \")\n",
    "b = a.T\n",
    "print(b, \"\\n\")"
   ]
  },
  {
   "cell_type": "code",
   "execution_count": 16,
   "metadata": {},
   "outputs": [
    {
     "data": {
      "text/plain": [
       "array([ 2,  4,  6,  8, 10], dtype=int64)"
      ]
     },
     "execution_count": 16,
     "metadata": {},
     "output_type": "execute_result"
    }
   ],
   "source": [
    "x = np.array([2, 4, 6, 8, 10], dtype = \"i8\")\n",
    "x"
   ]
  },
  {
   "cell_type": "code",
   "execution_count": 17,
   "metadata": {},
   "outputs": [
    {
     "data": {
      "text/plain": [
       "array([[[ 2,  4,  6,  8, 10]]])"
      ]
     },
     "execution_count": 17,
     "metadata": {},
     "output_type": "execute_result"
    }
   ],
   "source": [
    "x = np.array([2, 4, 6, 8, 10], ndmin = 3)\n",
    "x"
   ]
  },
  {
   "cell_type": "code",
   "execution_count": 18,
   "metadata": {},
   "outputs": [
    {
     "name": "stdout",
     "output_type": "stream",
     "text": [
      "12 \n",
      "\n",
      "[[ 0  5 10]\n",
      " [15 20 25]\n",
      " [30 35 40]\n",
      " [45 50 55]]\n"
     ]
    }
   ],
   "source": [
    "a = np.arange(0, 60, 5)\n",
    "print(len(a), \"\\n\")\n",
    "a = a.reshape(4, 3)\n",
    "print(a)"
   ]
  },
  {
   "cell_type": "code",
   "execution_count": 19,
   "metadata": {},
   "outputs": [
    {
     "name": "stdout",
     "output_type": "stream",
     "text": [
      "Sorted in C-style order : \n",
      "[[ 0 15 30 45]\n",
      " [ 5 20 35 50]\n",
      " [10 25 40 55]]\n",
      "0 ,  15 ,  30 ,  45 ,  5 ,  20 ,  35 ,  50 ,  10 ,  25 ,  40 ,  55 ,  \n",
      "\n",
      "Sorted in F-style order : \n",
      "[[ 0 15 30 45]\n",
      " [ 5 20 35 50]\n",
      " [10 25 40 55]]\n",
      "0 ,  5 ,  10 ,  15 ,  20 ,  25 ,  30 ,  35 ,  40 ,  45 ,  50 ,  55 ,  "
     ]
    }
   ],
   "source": [
    "print(\"Sorted in C-style order : \")\n",
    "c = b.copy(order = \"C\")\n",
    "print(c)\n",
    "for x in np.nditer(c):\n",
    "    print(x, end = \" ,  \")\n",
    "    \n",
    "print(\"\\n\\nSorted in F-style order : \")\n",
    "c = b.copy(order = \"F\")\n",
    "print(c)\n",
    "for i in np.nditer(c):\n",
    "    print(i, end = \" ,  \")"
   ]
  },
  {
   "cell_type": "code",
   "execution_count": 20,
   "metadata": {},
   "outputs": [
    {
     "name": "stdout",
     "output_type": "stream",
     "text": [
      "[[ 10  20  30  40]\n",
      " [ 50  60  70  80]\n",
      " [ 90 100 110 120]\n",
      " [130 140 150 160]\n",
      " [170 180 190 200]]\n"
     ]
    }
   ],
   "source": [
    "x = np.arange(10, 201, 10).reshape(5, 4)\n",
    "print(x)"
   ]
  },
  {
   "cell_type": "code",
   "execution_count": 21,
   "metadata": {},
   "outputs": [
    {
     "name": "stdout",
     "output_type": "stream",
     "text": [
      "[[ 10  20  30  40]\n",
      " [ 50  60  70  80]\n",
      " [ 90 100 110 120]\n",
      " [130 140 150 160]\n",
      " [170 180 190 200]]\n",
      "10 ,  20 ,  30 ,  40 ,  50 ,  60 ,  70 ,  80 ,  90 ,  100 ,  110 ,  120 ,  130 ,  140 ,  150 ,  160 ,  170 ,  180 ,  190 ,  200 ,  "
     ]
    }
   ],
   "source": [
    "arr = np.array(x, order = \"C\")\n",
    "print(arr)\n",
    "for i in np.nditer(arr):\n",
    "    print(i, end = \" ,  \")"
   ]
  },
  {
   "cell_type": "code",
   "execution_count": 22,
   "metadata": {},
   "outputs": [
    {
     "name": "stdout",
     "output_type": "stream",
     "text": [
      "[[ 10  20  30  40]\n",
      " [ 50  60  70  80]\n",
      " [ 90 100 110 120]\n",
      " [130 140 150 160]\n",
      " [170 180 190 200]]\n",
      "10 ,  50 ,  90 ,  130 ,  170 ,  20 ,  60 ,  100 ,  140 ,  180 ,  30 ,  70 ,  110 ,  150 ,  190 ,  40 ,  80 ,  120 ,  160 ,  200 ,  "
     ]
    }
   ],
   "source": [
    "arr = np.array(x, order = \"F\")\n",
    "print(arr)\n",
    "for i in np.nditer(arr):\n",
    "    print(i, end = \" ,  \")"
   ]
  },
  {
   "cell_type": "code",
   "execution_count": 23,
   "metadata": {},
   "outputs": [
    {
     "name": "stdout",
     "output_type": "stream",
     "text": [
      "Original array is : \n",
      "[[ 0  5 10 15]\n",
      " [20 25 30 35]\n",
      " [40 45 50 55]] \n",
      "\n",
      "Sorted in C-style order : \n",
      "0 ,  5 ,  10 ,  15 ,  20 ,  25 ,  30 ,  35 ,  40 ,  45 ,  50 ,  55 ,  \n",
      "\n",
      "Sorted in F-style order : \n",
      "0 ,  20 ,  40 ,  5 ,  25 ,  45 ,  10 ,  30 ,  50 ,  15 ,  35 ,  55 ,  "
     ]
    }
   ],
   "source": [
    "a = np.arange(0, 60, 5)\n",
    "a = a.reshape(3, 4)\n",
    "print(\"Original array is : \")\n",
    "print(a, \"\\n\")\n",
    "\n",
    "print(\"Sorted in C-style order : \")\n",
    "for x in np.nditer(a, order = \"C\"):\n",
    "    print(x, end = \" ,  \")\n",
    "print(\"\\n\")\n",
    "\n",
    "print(\"Sorted in F-style order : \")\n",
    "for x in np.nditer(a, order = \"F\"):\n",
    "    print(x, end = \" ,  \")"
   ]
  },
  {
   "cell_type": "code",
   "execution_count": 24,
   "metadata": {},
   "outputs": [
    {
     "data": {
      "text/plain": [
       "3"
      ]
     },
     "execution_count": 24,
     "metadata": {},
     "output_type": "execute_result"
    }
   ],
   "source": [
    "x = np.array([1, 2, 3, 4, 5], ndmin = 3)\n",
    "x.ndim"
   ]
  },
  {
   "cell_type": "code",
   "execution_count": 25,
   "metadata": {},
   "outputs": [
    {
     "name": "stdout",
     "output_type": "stream",
     "text": [
      "Original array is : \n",
      "[[ 0  5 10 15]\n",
      " [20 25 30 35]\n",
      " [40 45 50 55]] \n",
      "\n",
      "Modified array is : \n",
      "[[  0  10  20  30]\n",
      " [ 40  50  60  70]\n",
      " [ 80  90 100 110]]\n"
     ]
    }
   ],
   "source": [
    "a = np.arange(0, 60, 5)\n",
    "a = a.reshape(3, 4)\n",
    "print(\"Original array is : \")\n",
    "print(a, \"\\n\")\n",
    "\n",
    "for x in np.nditer(a, op_flags = [\"readwrite\"]):\n",
    "    x[...] = 2 * x\n",
    "print(\"Modified array is : \")\n",
    "print(a)"
   ]
  },
  {
   "cell_type": "code",
   "execution_count": 26,
   "metadata": {},
   "outputs": [
    {
     "name": "stdout",
     "output_type": "stream",
     "text": [
      "[[ 0  5 10 15]\n",
      " [20 25 30 35]\n",
      " [40 45 50 55]]\n",
      "0 ,  5 ,  10 ,  15 ,  20 ,  25 ,  30 ,  35 ,  40 ,  45 ,  50 ,  55 ,  "
     ]
    }
   ],
   "source": [
    "a = np.arange(0, 60, 5)\n",
    "a.shape = (3, 4)\n",
    "print(a)\n",
    "for i in np.nditer(a):\n",
    "    print(i[...], end = \" ,  \")\n",
    "#     print(i, end = \" , \")"
   ]
  },
  {
   "cell_type": "code",
   "execution_count": 27,
   "metadata": {},
   "outputs": [
    {
     "name": "stdout",
     "output_type": "stream",
     "text": [
      "55\n"
     ]
    }
   ],
   "source": [
    "print(i[...])"
   ]
  },
  {
   "cell_type": "code",
   "execution_count": 28,
   "metadata": {},
   "outputs": [
    {
     "name": "stdout",
     "output_type": "stream",
     "text": [
      "[ 10  20  30  40  50  60  70  80  90 100]\n",
      "10 ,  20 ,  30 ,  40 ,  50 ,  60 ,  70 ,  80 ,  90 ,  100 ,  "
     ]
    }
   ],
   "source": [
    "x = np.array([i for i in range(110) if i % 10 == 0 and i != 0])\n",
    "print(x)\n",
    "for i in np.nditer(x):\n",
    "    print(i[...], end = \" ,  \")"
   ]
  },
  {
   "cell_type": "code",
   "execution_count": 29,
   "metadata": {},
   "outputs": [
    {
     "name": "stdout",
     "output_type": "stream",
     "text": [
      "10 ,  20 ,  30 ,  40 ,  50 ,  60 ,  70 ,  80 ,  90 ,  100 ,  "
     ]
    }
   ],
   "source": [
    "for i in np.nditer(x, op_flags = [\"readonly\"]):\n",
    "    print(i[...], end = \" ,  \")"
   ]
  },
  {
   "cell_type": "code",
   "execution_count": 30,
   "metadata": {},
   "outputs": [
    {
     "name": "stdout",
     "output_type": "stream",
     "text": [
      "10 ,  20 ,  30 ,  40 ,  50 ,  60 ,  70 ,  80 ,  90 ,  100 ,  "
     ]
    }
   ],
   "source": [
    "for i in np.nditer(x, op_flags = [\"writeonly\"]):\n",
    "#     print(i, end = \" ,  \")\n",
    "    print(i[...], end = \" ,  \")"
   ]
  },
  {
   "cell_type": "code",
   "execution_count": 31,
   "metadata": {},
   "outputs": [
    {
     "ename": "ValueError",
     "evalue": "assignment destination is read-only",
     "output_type": "error",
     "traceback": [
      "\u001b[1;31m---------------------------------------------------------------------------\u001b[0m",
      "\u001b[1;31mValueError\u001b[0m                                Traceback (most recent call last)",
      "\u001b[1;32m<ipython-input-31-a9d082e840a1>\u001b[0m in \u001b[0;36m<module>\u001b[1;34m\u001b[0m\n\u001b[0;32m      1\u001b[0m \u001b[1;32mfor\u001b[0m \u001b[0ma\u001b[0m \u001b[1;32min\u001b[0m \u001b[0mnp\u001b[0m\u001b[1;33m.\u001b[0m\u001b[0mnditer\u001b[0m\u001b[1;33m(\u001b[0m\u001b[0mx\u001b[0m\u001b[1;33m,\u001b[0m \u001b[0mop_flags\u001b[0m \u001b[1;33m=\u001b[0m \u001b[1;33m[\u001b[0m\u001b[1;34m\"readonly\"\u001b[0m\u001b[1;33m]\u001b[0m\u001b[1;33m)\u001b[0m\u001b[1;33m:\u001b[0m\u001b[1;33m\u001b[0m\u001b[1;33m\u001b[0m\u001b[0m\n\u001b[1;32m----> 2\u001b[1;33m     \u001b[0ma\u001b[0m\u001b[1;33m[\u001b[0m\u001b[1;33m...\u001b[0m\u001b[1;33m]\u001b[0m \u001b[1;33m=\u001b[0m \u001b[1;36m2\u001b[0m \u001b[1;33m*\u001b[0m \u001b[0ma\u001b[0m\u001b[1;33m\u001b[0m\u001b[1;33m\u001b[0m\u001b[0m\n\u001b[0m",
      "\u001b[1;31mValueError\u001b[0m: assignment destination is read-only"
     ]
    }
   ],
   "source": [
    "for a in np.nditer(x, op_flags = [\"readonly\"]):\n",
    "    a[...] = 2 * a"
   ]
  },
  {
   "cell_type": "code",
   "execution_count": 32,
   "metadata": {},
   "outputs": [
    {
     "name": "stdout",
     "output_type": "stream",
     "text": [
      "10 ,  20 ,  30 ,  40 ,  50 ,  60 ,  70 ,  80 ,  90 ,  100 ,  "
     ]
    }
   ],
   "source": [
    "for a in np.nditer(x, op_flags = [\"writeonly\"]):\n",
    "    print(a[...], end = \" ,  \")"
   ]
  },
  {
   "cell_type": "code",
   "execution_count": 33,
   "metadata": {},
   "outputs": [],
   "source": [
    "for a in np.nditer(x, op_flags = [\"readwrite\"]):\n",
    "    a[...] = a * 2"
   ]
  },
  {
   "cell_type": "code",
   "execution_count": 34,
   "metadata": {},
   "outputs": [
    {
     "name": "stdout",
     "output_type": "stream",
     "text": [
      "[ 20  40  60  80 100 120 140 160 180 200]\n"
     ]
    }
   ],
   "source": [
    "print(x)"
   ]
  },
  {
   "cell_type": "code",
   "execution_count": 52,
   "metadata": {},
   "outputs": [
    {
     "name": "stdout",
     "output_type": "stream",
     "text": [
      "[[  0  10  20  30]\n",
      " [ 40  50  60  70]\n",
      " [ 80  90 100 110]\n",
      " [120 130 140 150]\n",
      " [160 170 180 190]]\n",
      "0 ,  10 ,  20 ,  30 ,  40 ,  50 ,  60 ,  70 ,  80 ,  90 ,  100 ,  110 ,  120 ,  130 ,  140 ,  150 ,  160 ,  170 ,  180 ,  190 ,  \n",
      "\n",
      " [[  3  13  23  33]\n",
      " [ 43  53  63  73]\n",
      " [ 83  93 103 113]\n",
      " [123 133 143 153]\n",
      " [163 173 183 193]]\n"
     ]
    }
   ],
   "source": [
    "x = np.arange(0, 200, 10)\n",
    "len(x)\n",
    "x.shape = (5, 4)\n",
    "print(x)\n",
    "for y in np.nditer(x, op_flags = [\"readwrite\"]):\n",
    "    print(y[...], end = \" ,  \")\n",
    "    y[...] = y + 3\n",
    "print(\"\\n\\n\",x)"
   ]
  },
  {
   "cell_type": "code",
   "execution_count": 63,
   "metadata": {},
   "outputs": [
    {
     "name": "stdout",
     "output_type": "stream",
     "text": [
      "Original array is : \n",
      "[[ 0  5 10 15]\n",
      " [20 25 30 35]\n",
      " [40 45 50 55]] \n",
      "\n",
      "Modified array is : \n",
      "[ 0 20 40] ,  [ 5 25 45] ,  [10 30 50] ,  [15 35 55] ,  \n",
      "\n",
      "\n",
      "0 ,  20 ,  40 ,  5 ,  25 ,  45 ,  10 ,  30 ,  50 ,  15 ,  35 ,  55 ,  "
     ]
    }
   ],
   "source": [
    "a = np.arange(0, 60, 5)\n",
    "a.shape = (3, 4)\n",
    "print(\"Original array is : \")\n",
    "print(a, \"\\n\")\n",
    "\n",
    "print(\"Modified array is : \")\n",
    "for x in np.nditer(a, flags = [\"external_loop\"], order = \"F\"):\n",
    "    print(x, end = \" ,  \")\n",
    "print(\"\\n\\n\")\n",
    "\n",
    "for x in np.nditer(a, flags = [\"c_index\"], order = \"F\"):\n",
    "    print(x, end = \" ,  \")\n",
    "print(\"\\n\\n\")\n",
    "\n"
   ]
  },
  {
   "cell_type": "code",
   "execution_count": 69,
   "metadata": {},
   "outputs": [
    {
     "name": "stdout",
     "output_type": "stream",
     "text": [
      "First array is : \n",
      "[[ 0  5 10 15]\n",
      " [20 25 30 35]\n",
      " [40 45 50 55]] \n",
      "\n",
      "Second array is : \n",
      "[1 2 3 4] \n",
      "\n",
      "Modifies array is : \n",
      "0 : 1 ,  5 : 2 ,  10 : 3 ,  15 : 4 ,  20 : 1 ,  25 : 2 ,  30 : 3 ,  35 : 4 ,  40 : 1 ,  45 : 2 ,  50 : 3 ,  55 : 4 ,  "
     ]
    }
   ],
   "source": [
    "a = np.arange(0, 60, 5)\n",
    "a.shape = (3, 4)\n",
    "print(\"First array is : \")\n",
    "print(a, \"\\n\")\n",
    "\n",
    "print(\"Second array is : \")\n",
    "b = np.array([1, 2, 3, 4], dtype = int)\n",
    "print(b, \"\\n\")\n",
    "\n",
    "print(\"Modifies array is : \")\n",
    "for x, y in np.nditer([a, b]):\n",
    "    print(\"%d : %d\" %(x, y), end = \" ,  \")\n",
    "#     print(x, y, end = \" ,  \")"
   ]
  },
  {
   "cell_type": "code",
   "execution_count": 88,
   "metadata": {},
   "outputs": [
    {
     "name": "stdout",
     "output_type": "stream",
     "text": [
      "Fisrt array is : \n",
      "[[  0  10  20]\n",
      " [ 30  40  50]\n",
      " [ 60  70  80]\n",
      " [ 90 100 110]] \n",
      "\n",
      "Second array is : \n",
      "[2 4 6] \n",
      "\n",
      "Modified array is : \n",
      "0 : 2, 10 : 4, 20 : 6, 30 : 2, 40 : 4, 50 : 6, 60 : 2, 70 : 4, 80 : 6, 90 : 2, 100 : 4, 110 : 6, "
     ]
    }
   ],
   "source": [
    "a = np.arange(0, 120, 10)\n",
    "a = a.reshape(4, 3)\n",
    "print(\"Fisrt array is : \")\n",
    "print(a, \"\\n\")\n",
    "\n",
    "print(\"Second array is : \")\n",
    "b = np.array([2, 4, 6])\n",
    "print(b, \"\\n\")\n",
    "\n",
    "print(\"Modified array is : \")\n",
    "for i, j in np.nditer((a, b)):\n",
    "    print(\"%d : %d\" %(i, j), end = \", \")"
   ]
  },
  {
   "cell_type": "code",
   "execution_count": null,
   "metadata": {},
   "outputs": [],
   "source": []
  }
 ],
 "metadata": {
  "kernelspec": {
   "display_name": "Python 3",
   "language": "python",
   "name": "python3"
  },
  "language_info": {
   "codemirror_mode": {
    "name": "ipython",
    "version": 3
   },
   "file_extension": ".py",
   "mimetype": "text/x-python",
   "name": "python",
   "nbconvert_exporter": "python",
   "pygments_lexer": "ipython3",
   "version": "3.7.1"
  }
 },
 "nbformat": 4,
 "nbformat_minor": 2
}
